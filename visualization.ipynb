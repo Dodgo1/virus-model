{
 "cells": [
  {
   "cell_type": "code",
   "execution_count": 1,
   "id": "c977af625612ba24",
   "metadata": {
    "ExecuteTime": {
     "end_time": "2023-11-03T16:13:58.723170200Z",
     "start_time": "2023-11-03T16:13:52.109908400Z"
    },
    "collapsed": false
   },
   "outputs": [
    {
     "data": {
      "application/javascript": [
       "\n",
       "                    window.jupyter_python_executable = '\\r\\r';\n",
       "                    window.jupyter_widget_checks_silent = true;\n",
       "                    window.jupyter_widget_checks_libraries = [{\"python\": \"ipyvuetify\", \"classic\": \"jupyter-vuetify/extension\", \"lab\": \"jupyter-vuetify\"}, {\"python\": \"ipyvue\", \"classic\": \"jupyter-vue/extension\", \"lab\": \"jupyter-vue\"}];\n",
       "                    "
      ],
      "text/plain": [
       "<IPython.core.display.Javascript object>"
      ]
     },
     "metadata": {},
     "output_type": "display_data"
    },
    {
     "data": {
      "text/html": [
       "<div class=\"jupyter-widget-checks-container\">\n",
       "    <script>\n",
       "        (function () {\n",
       "            console.log(\"Checking for jupyter-widgets extensions\")\n",
       "            const inLab = window._JUPYTERLAB !== undefined;\n",
       "            const silent = jupyter_widget_checks_silent;\n",
       "            const containers = document.getElementsByClassName('jupyter-widget-checks-container');\n",
       "            const rootEl = containers[containers.length - 1];\n",
       "            const libraries = window.jupyter_widget_checks_libraries;\n",
       "\n",
       "            function getBaseUrl() {\n",
       "                const labConfigData = document.getElementById(\"jupyter-config-data\");\n",
       "                if (labConfigData) {\n",
       "                    /* lab and Voila */\n",
       "                    return JSON.parse(labConfigData.textContent).baseUrl;\n",
       "                }\n",
       "                let base = document.body.dataset.baseUrl || document.baseURI;\n",
       "                return base;\n",
       "            }\n",
       "\n",
       "            function checkLibrary(extensions, library) {\n",
       "                let installed = false;\n",
       "                let ok = true;\n",
       "                if (inLab) {\n",
       "                    installed = _JUPYTERLAB[library.lab] !== undefined\n",
       "                } else {\n",
       "                    installed = extensions[library.classic] !== undefined;\n",
       "                    let enabled = extensions[library.classic] === true;\n",
       "                }\n",
       "                const div = document.createElement(\"div\")\n",
       "                if (installed) {\n",
       "                    if (!silent) {\n",
       "                        div.innerHTML = `Extension ${library.python} is installed at the server ✅`\n",
       "                        rootEl.appendChild(div)\n",
       "                    }\n",
       "                } else {\n",
       "                    div.innerHTML = `Extension ${library.python} is <b>NOT</b> installed at the server ❌.`\n",
       "                    rootEl.appendChild(div)\n",
       "                    ok = false;\n",
       "                }\n",
       "                return ok;\n",
       "            }\n",
       "\n",
       "            async function check() {\n",
       "                const url = `${getBaseUrl()}api/config/notebook`\n",
       "                const response = (await fetch(url));\n",
       "                const data = await response.json()\n",
       "                const extensions = data[\"load_extensions\"];\n",
       "                var ok = true;\n",
       "                let needsInstall = [];\n",
       "                libraries.forEach((library) => {\n",
       "                    if (!checkLibrary(extensions, library)) {\n",
       "                        ok = false;\n",
       "                        needsInstall.push(library.python)\n",
       "                        console.log(\"Needs install\", library.python)\n",
       "                    }\n",
       "                })\n",
       "                console.log(ok, needsInstall)\n",
       "                if (!ok) {\n",
       "                    const div = document.createElement(\"div\")\n",
       "                    const div2 = document.createElement(\"div\")\n",
       "                    div.innerHTML = `Run <code>${jupyter_python_executable} -m pip install ${needsInstall.join(\" \")}</code>. Refresh the page after installation.`\n",
       "                    div2.innerHTML = `Visit <a href=\"https://solara.dev/docs/troubleshoot\" target=\"_blank\">https://solara/dev/docs/troubleshoot</a> for more information.`\n",
       "                    rootEl.appendChild(div)\n",
       "                    rootEl.appendChild(div2)\n",
       "                }\n",
       "            }\n",
       "            check()\n",
       "        })();\n",
       "    </script>\n",
       "</div>\n"
      ],
      "text/plain": [
       "<IPython.core.display.HTML object>"
      ]
     },
     "metadata": {},
     "output_type": "display_data"
    }
   ],
   "source": [
    "import mesa\n",
    "from mesa.experimental import JupyterViz\n",
    "import main1"
   ]
  },
  {
   "cell_type": "code",
   "execution_count": 2,
   "id": "db1b16f9a04bc09e",
   "metadata": {
    "ExecuteTime": {
     "end_time": "2023-11-03T16:14:26.867255600Z",
     "start_time": "2023-11-03T16:14:26.706257900Z"
    },
    "collapsed": false
   },
   "outputs": [],
   "source": [
    "COLORS = [\"#3b0e5c\",\"#20418c\",\"#20baa8\",\"#2bbd68\",\"#c4c03b\",\"#c4423b\"]"
   ]
  },
  {
   "cell_type": "code",
   "execution_count": null,
   "outputs": [],
   "source": [
    "model_params = {\n",
    "    \"map_size\": (100,100),\n",
    "    \"agent_move_distance\": {\n",
    "        \"type\": \"SliderInt\",\n",
    "        \"value\": 2,\n",
    "        \"label\": \"agents_move_distance:\",\n",
    "        \"min\": 1,\n",
    "        \"max\": 10,\n",
    "        \"step\": 1,\n",
    "    },\n",
    "    \"illness_range\": {\n",
    "        \"type\": \"SliderFloat\",\n",
    "        \"value\": 0.5,\n",
    "        \"label\": \"Number of agents:\",\n",
    "        \"min\": 0.,\n",
    "        \"max\": 1.,\n",
    "        \"step\": 1,\n",
    "    },\n",
    "    \"contracting_probability\": {\n",
    "        \"type\": \"SliderFloat\",\n",
    "        \"value\": 0.5,\n",
    "        \"label\": \"Number of agents:\",\n",
    "        \"min\": 0.,\n",
    "        \"max\": 1.,\n",
    "        \"step\": 1,\n",
    "    },\n",
    "    \"incubation_time\": {\n",
    "        \"type\": \"SliderInt\",\n",
    "        \"value\": 2,\n",
    "        \"label\": \"incubation_time\",\n",
    "        \"min\": 1,\n",
    "        \"max\": 10,\n",
    "        \"step\": 1,\n",
    "    },\n",
    "    \"recovery_time\": {\n",
    "        \"type\": \"SliderInt\",\n",
    "        \"value\": 2,\n",
    "        \"label\": \"recovery_time\",\n",
    "        \"min\": 1,\n",
    "        \"max\": 10,\n",
    "        \"step\": 1,\n",
    "    },\n",
    "    \"death_probability\": {\n",
    "        \"type\": \"SliderFloat\",\n",
    "        \"value\": 0.5,\n",
    "        \"label\": \"death_probability\",\n",
    "        \"min\": 0.,\n",
    "        \"max\": 1.,\n",
    "        \"step\": 1,\n",
    "    },\n",
    "    \"agents_count\": {\n",
    "        \"type\": \"SliderInt\",\n",
    "        \"value\": 10,\n",
    "        \"label\": \"agents_count\",\n",
    "        \"min\": 1,\n",
    "        \"max\": 1000,\n",
    "        \"step\": 1,\n",
    "    },\n",
    "    \"map_torus\": {\n",
    "        \"type\":\"Checkbox\",\n",
    "        \"value\":True,\n",
    "    },\n",
    "}"
   ],
   "metadata": {
    "collapsed": false
   },
   "id": "baace76e3831e94d"
  },
  {
   "cell_type": "code",
   "execution_count": null,
   "outputs": [],
   "source": [
    "def agent_portrayal(agent:main1.CovidAgent):\n",
    "    style = {\n",
    "        \"Shape\": \"circle\",\n",
    "        \"xAlign\":0.5,\n",
    "        \"yAlign\":0.5,\n",
    "        \"Filled\": \"true\",\n",
    "        \"Layer\": 0,\n",
    "        \"r\": 1,\n",
    "    }\n",
    "    mates = agent.model.grid.get_cell_list_contents([agent.pos])\n",
    "    style[\"Color\"] = COLORS[len(mates)-1]\n",
    "    return style"
   ],
   "metadata": {
    "collapsed": false
   },
   "id": "84072419de5e7cd"
  },
  {
   "cell_type": "code",
   "execution_count": null,
   "outputs": [],
   "source": [
    "server = JupyterViz(\n",
    "    model_class=main1.CovidModel, measures=[], name=\"Covid Model\", model_params=model_params,agent_portrayal=agent_portrayal\n",
    ")"
   ],
   "metadata": {
    "collapsed": false
   },
   "id": "9ccf0cf9ee070e4c"
  },
  {
   "cell_type": "code",
   "execution_count": null,
   "outputs": [],
   "source": [
    "server"
   ],
   "metadata": {
    "collapsed": false
   },
   "id": "b5c53d428eac4b23"
  },
  {
   "cell_type": "code",
   "execution_count": null,
   "id": "3756efe2-0ee5-4ae0-a34c-8d64ca7abfdb",
   "metadata": {},
   "outputs": [],
   "source": []
  }
 ],
 "metadata": {
  "kernelspec": {
   "display_name": "Python 3 (ipykernel)",
   "language": "python",
   "name": "python3"
  },
  "language_info": {
   "codemirror_mode": {
    "name": "ipython",
    "version": 3
   },
   "file_extension": ".py",
   "mimetype": "text/x-python",
   "name": "python",
   "nbconvert_exporter": "python",
   "pygments_lexer": "ipython3",
   "version": "3.10.5"
  }
 },
 "nbformat": 4,
 "nbformat_minor": 5
}
